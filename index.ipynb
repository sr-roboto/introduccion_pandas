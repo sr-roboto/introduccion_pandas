{
 "cells": [
  {
   "cell_type": "markdown",
   "id": "21d8b71b",
   "metadata": {},
   "source": [
    "# Introducción a Pandas para Ciencia de Datos (DF)\n",
    "\n",
    "### Requerimientos: \n",
    "1. Datasets\n",
    "2. Librerias: Pandas, sqlite3"
   ]
  },
  {
   "cell_type": "markdown",
   "id": "e61677a0",
   "metadata": {},
   "source": [
    "Para realizar esto, debemos instalar las siguientes dependencias"
   ]
  },
  {
   "cell_type": "code",
   "execution_count": null,
   "id": "5893b65b",
   "metadata": {
    "vscode": {
     "languageId": "powershell"
    }
   },
   "outputs": [],
   "source": [
    "pip install pandas "
   ]
  },
  {
   "cell_type": "markdown",
   "id": "c49ccde2",
   "metadata": {},
   "source": [
    "## Extración de datos con Pandas\n",
    "Ahora que ya tenemos nuestro datasets, vamos a utilizar pandas para leer nuestro csv"
   ]
  },
  {
   "cell_type": "markdown",
   "id": "97dc1f62",
   "metadata": {},
   "source": [
    "**Importamos pandas y le asignamos el alias pd (por convencion, siempre se utiliza pd al importar)**\n",
    "\n",
    "* `import pandas as pd`\n",
    "**Importamos sqlite3**\n",
    "* `import sqlite3`"
   ]
  },
  {
   "cell_type": "code",
   "execution_count": null,
   "id": "e1e85809",
   "metadata": {},
   "outputs": [],
   "source": []
  },
  {
   "cell_type": "markdown",
   "id": "490e1d1d",
   "metadata": {},
   "source": [
    "Ahora utilizaremos el metodo `pd.read_sql_query()` para leer el datasets y lo guardaremos en una variable llamada df(DataFrame)"
   ]
  },
  {
   "cell_type": "code",
   "execution_count": null,
   "id": "691e09bc",
   "metadata": {},
   "outputs": [],
   "source": []
  },
  {
   "cell_type": "markdown",
   "id": "c5b04bfe",
   "metadata": {},
   "source": [
    "### Exploracion de datos:\n",
    "Una vez creado el df, podemos utilizar metodos de pandas que nos ayudaran a observar mejor los datos.\n",
    "En este caso, utilizaremos las funciones: \n",
    "\n",
    "* `df.shape()` <- Obtener cuantas columnas y filas tiene el df.\n",
    "* `df.colums` <- Obtener el nombre de las columnas.\n",
    "* `df.dtypes` <- Obtener los tipos dedatos de cada columna.\n",
    "* `df.info()` <- Obtener una vista rapida de los tipos de datos del df.\n",
    "* `df.isnull().sum()` <- Obtener la cantidad de datos nulos en nuestro df."
   ]
  },
  {
   "cell_type": "code",
   "execution_count": null,
   "id": "6bacc52f",
   "metadata": {},
   "outputs": [],
   "source": [
    "#utilizamos el metodo shape para obtener las dimensiones del dataframe\n",
    "\n",
    "\n",
    "#utilizamos el metodo columns para obtener los nombres de las columnas\n",
    "\n",
    "\n",
    "#utilizamos el metodo dtypes para obtener los tipos de datos de cada columna\n"
   ]
  },
  {
   "cell_type": "code",
   "execution_count": null,
   "id": "e6befc39",
   "metadata": {},
   "outputs": [],
   "source": [
    "#utilizamos el metodo info para obtener un resumen del dataframe\n"
   ]
  },
  {
   "cell_type": "markdown",
   "id": "8dc019c3",
   "metadata": {},
   "source": [
    "Ahora utilizaremos el metodo `isnull()` para ver si hay valores nulos en el dataframe y esto lo potenciamos con el metodo `sum()` para ver la cantidad de valores nulos por columna"
   ]
  },
  {
   "cell_type": "code",
   "execution_count": null,
   "id": "1b5c26a4",
   "metadata": {},
   "outputs": [],
   "source": [
    "\n"
   ]
  },
  {
   "cell_type": "markdown",
   "id": "846fed0c",
   "metadata": {},
   "source": [
    "**Exploración de datos**\n",
    "\n",
    "* df.head()           # Primeras 5 filas\n",
    "* df.tail()           # Últimas 5 filas\n",
    "* df.shape            # (filas, columnas)\n",
    "* df.columns          # Nombres de columnas\n",
    "* df.info()           # Info general: tipos de datos, nulos, etc.\n",
    "* df.describe()       # Estadísticas básicas (solo numéricas)\n",
    "* df.dtypes           # Tipos de datos por columna"
   ]
  },
  {
   "cell_type": "code",
   "execution_count": null,
   "id": "14d5b255",
   "metadata": {},
   "outputs": [],
   "source": []
  },
  {
   "cell_type": "markdown",
   "id": "7a54878f",
   "metadata": {},
   "source": [
    "## Estadisticas descriptivas\n",
    "\n",
    "* `df.describe()`: Este método se utiliza para generar estadísticas descriptivas de un DataFrame de pandas. Proporciona un resumen estadístico de las columnas numéricas del DataFrame, incluyendo medidas como la media, la desviación estándar, los cuartiles y los valores mínimo y máximo.\n",
    "\n"
   ]
  },
  {
   "cell_type": "markdown",
   "id": "44f92839",
   "metadata": {},
   "source": [
    "### ¿Qué hace df.describe()?\n",
    "\n",
    "Al aplicar df.describe() a un DataFrame, obtendrás una tabla resumen que incluye las siguientes estadísticas para cada columna numérica:\n",
    "\n",
    "* count: El número de valores no nulos.\n",
    "* mean: La media (promedio) de los valores.\n",
    "* std: La desviación estándar de los valores.\n",
    "* min: El valor mínimo.\n",
    "* 25% (o quantile 0.25): El primer cuartil.\n",
    "* 50% (o quantile 0.50): La mediana (segundo cuartil).\n",
    "* 75% (o quantile 0.75): El tercer cuartil.\n",
    "* max: El valor máximo."
   ]
  },
  {
   "cell_type": "code",
   "execution_count": null,
   "id": "ec84dd83",
   "metadata": {},
   "outputs": [],
   "source": [
    "#Obtenemos estatidsticas de nuestro df\n",
    "\n"
   ]
  },
  {
   "cell_type": "markdown",
   "id": "50f3560e",
   "metadata": {},
   "source": [
    "**Operaciones con columnas**\n",
    "\n",
    "* df['columna'].value_counts()     # Conteo de valores únicos\n",
    "* df['columna'].unique()           # Valores únicos\n",
    "* df['columna'].mean()             # Media\n",
    "* df['columna'].sum()              # Suma\n",
    "* df.sort_values('columna')        # Ordenar por columna\n"
   ]
  },
  {
   "cell_type": "code",
   "execution_count": null,
   "id": "94c90298",
   "metadata": {},
   "outputs": [],
   "source": []
  },
  {
   "cell_type": "markdown",
   "id": "a33ff6ec",
   "metadata": {},
   "source": [
    "**Filtrado y selección**.\n",
    "* df['columna']                     # Selección de una columna\n",
    "* df[['col1', 'col2']]              # Varias columnas\n",
    "* df[df['columna'] > 100]           # Filtrado por condición\n",
    "* df.loc[0]                         # Acceso por etiqueta\n",
    "* df.iloc[0]                        # Acceso por índice\n"
   ]
  },
  {
   "cell_type": "markdown",
   "id": "46c54d77",
   "metadata": {},
   "source": [
    "**Exportación a un CSV O XLLS**\n",
    "\n",
    "\n",
    "* df.to_csv('archivo.csv', index=False)         # Exportar a CSV\n",
    "* df.to_excel('archivo.xlsx', index=False)      # Exportar a Excel\n"
   ]
  },
  {
   "cell_type": "markdown",
   "id": "5c0cae78",
   "metadata": {},
   "source": []
  }
 ],
 "metadata": {
  "kernelspec": {
   "display_name": "env",
   "language": "python",
   "name": "python3"
  },
  "language_info": {
   "codemirror_mode": {
    "name": "ipython",
    "version": 3
   },
   "file_extension": ".py",
   "mimetype": "text/x-python",
   "name": "python",
   "nbconvert_exporter": "python",
   "pygments_lexer": "ipython3",
   "version": "3.13.2"
  }
 },
 "nbformat": 4,
 "nbformat_minor": 5
}
